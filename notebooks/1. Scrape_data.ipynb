{
 "cells": [
  {
   "cell_type": "code",
   "execution_count": 15,
   "id": "ebf22800-ec60-4f9b-86da-71f0ea384158",
   "metadata": {},
   "outputs": [],
   "source": [
    "import json\n",
    "import urllib\n",
    "import numpy as np\n",
    "import re\n",
    "import tqdm\n",
    "import os\n",
    "import sys\n",
    "import cv2\n",
    "#if cairopath not in sys.path:\n",
    "#    sys.path.append(cairopath)\n",
    "import cairosvg"
   ]
  },
  {
   "cell_type": "code",
   "execution_count": 3,
   "id": "8040fb57-7401-4dd4-acc1-91a41ea974cf",
   "metadata": {},
   "outputs": [],
   "source": [
    "#data=json.load(open('../3rd/emoji-kitchen/scripts/emojiOutput.json'))\n",
    "url='https://emojikitchen.dev/assets/index-39d501e3.js'\n",
    "urllib.request.urlretrieve(url, '../data/emojisite.json')\n",
    "rawdata=open('../data/emojisite.json').read()\n",
    "#modified_json_str = add_quotes_to_ints_and_words(rawdata)\n",
    "#find the patterns\n",
    "pattern=r'\"https://www\\.gstatic\\.com/android/keyboard/emojikitchen/2[^\"]+\"'\n",
    "#data=json.loads(modified_json_str)   \n",
    "alllinks=re.findall(pattern,rawdata)\n",
    "alllinks.sort()\n",
    "onlynew={}\n",
    "for link in alllinks:\n",
    "    name=link.split('/')[-1][:-1]\n",
    "    onlynew[name]=link[1:-1]"
   ]
  },
  {
   "cell_type": "code",
   "execution_count": 4,
   "id": "1ebe99e1",
   "metadata": {},
   "outputs": [],
   "source": [
    "todownload=set()\n",
    "for name in onlynew.keys():\n",
    "    todownload.add(name.split('.')[0].split('_')[0])\n",
    "    todownload.add(name.split('.')[0].split('_')[1])\n",
    "todownload=list(todownload)"
   ]
  },
  {
   "cell_type": "code",
   "execution_count": 5,
   "id": "ded0a791",
   "metadata": {},
   "outputs": [
    {
     "name": "stderr",
     "output_type": "stream",
     "text": [
      "  0%|          | 3/638 [00:00<02:38,  4.00it/s]"
     ]
    },
    {
     "name": "stdout",
     "output_type": "stream",
     "text": [
      "failed  https://raw.githubusercontent.com/googlefonts/noto-emoji/main/svg/emoji_u1f6cb-ufe0f.svg\n"
     ]
    },
    {
     "name": "stderr",
     "output_type": "stream",
     "text": [
      "  1%|          | 4/638 [00:00<02:39,  3.97it/s]"
     ]
    },
    {
     "name": "stdout",
     "output_type": "stream",
     "text": [
      "failed  https://raw.githubusercontent.com/googlefonts/noto-emoji/main/svg/emoji_u1f5e3-ufe0f.svg\n"
     ]
    },
    {
     "name": "stderr",
     "output_type": "stream",
     "text": [
      "  1%|          | 6/638 [00:01<02:29,  4.23it/s]"
     ]
    },
    {
     "name": "stdout",
     "output_type": "stream",
     "text": [
      "failed  https://raw.githubusercontent.com/googlefonts/noto-emoji/main/svg/emoji_u1f5a8-ufe0f.svg\n"
     ]
    },
    {
     "name": "stderr",
     "output_type": "stream",
     "text": [
      "  1%|▏         | 8/638 [00:01<02:40,  3.93it/s]"
     ]
    },
    {
     "name": "stdout",
     "output_type": "stream",
     "text": [
      "failed  https://raw.githubusercontent.com/googlefonts/noto-emoji/main/svg/emoji_u2601-ufe0f.svg\n"
     ]
    },
    {
     "name": "stderr",
     "output_type": "stream",
     "text": [
      "  2%|▏         | 10/638 [00:02<02:33,  4.10it/s]"
     ]
    },
    {
     "name": "stdout",
     "output_type": "stream",
     "text": [
      "failed  https://raw.githubusercontent.com/googlefonts/noto-emoji/main/svg/emoji_u1f39e-ufe0f.svg\n"
     ]
    },
    {
     "name": "stderr",
     "output_type": "stream",
     "text": [
      "  3%|▎         | 17/638 [00:03<02:19,  4.46it/s]"
     ]
    },
    {
     "name": "stdout",
     "output_type": "stream",
     "text": [
      "failed  https://raw.githubusercontent.com/googlefonts/noto-emoji/main/svg/emoji_u1f329-ufe0f.svg\n"
     ]
    },
    {
     "name": "stderr",
     "output_type": "stream",
     "text": [
      "  3%|▎         | 21/638 [00:04<02:21,  4.36it/s]"
     ]
    },
    {
     "name": "stdout",
     "output_type": "stream",
     "text": [
      "failed  https://raw.githubusercontent.com/googlefonts/noto-emoji/main/svg/emoji_u1f32a-ufe0f.svg\n"
     ]
    },
    {
     "name": "stderr",
     "output_type": "stream",
     "text": [
      "  5%|▍         | 30/638 [00:06<02:21,  4.31it/s]"
     ]
    },
    {
     "name": "stdout",
     "output_type": "stream",
     "text": [
      "failed  https://raw.githubusercontent.com/googlefonts/noto-emoji/main/svg/emoji_u2602-ufe0f.svg\n"
     ]
    },
    {
     "name": "stderr",
     "output_type": "stream",
     "text": [
      "  6%|▌         | 38/638 [00:08<02:30,  4.00it/s]"
     ]
    },
    {
     "name": "stdout",
     "output_type": "stream",
     "text": [
      "failed  https://raw.githubusercontent.com/googlefonts/noto-emoji/main/svg/emoji_u2122-ufe0f.svg\n"
     ]
    },
    {
     "name": "stderr",
     "output_type": "stream",
     "text": [
      "  7%|▋         | 46/638 [00:10<02:26,  4.03it/s]"
     ]
    },
    {
     "name": "stdout",
     "output_type": "stream",
     "text": [
      "failed  https://raw.githubusercontent.com/googlefonts/noto-emoji/main/svg/emoji_u1f58d-ufe0f.svg\n"
     ]
    },
    {
     "name": "stderr",
     "output_type": "stream",
     "text": [
      "  9%|▉         | 57/638 [00:13<02:24,  4.01it/s]"
     ]
    },
    {
     "name": "stdout",
     "output_type": "stream",
     "text": [
      "failed  https://raw.githubusercontent.com/googlefonts/noto-emoji/main/svg/emoji_u1f3dd-ufe0f.svg\n"
     ]
    },
    {
     "name": "stderr",
     "output_type": "stream",
     "text": [
      " 10%|▉         | 61/638 [00:14<02:18,  4.18it/s]"
     ]
    },
    {
     "name": "stdout",
     "output_type": "stream",
     "text": [
      "failed  https://raw.githubusercontent.com/googlefonts/noto-emoji/main/svg/emoji_u2665-ufe0f.svg\n"
     ]
    },
    {
     "name": "stderr",
     "output_type": "stream",
     "text": [
      " 10%|█         | 66/638 [00:15<02:14,  4.26it/s]"
     ]
    },
    {
     "name": "stdout",
     "output_type": "stream",
     "text": [
      "failed  https://raw.githubusercontent.com/googlefonts/noto-emoji/main/svg/emoji_u1f441-ufe0f.svg\n"
     ]
    },
    {
     "name": "stderr",
     "output_type": "stream",
     "text": [
      " 13%|█▎        | 85/638 [00:19<02:11,  4.22it/s]"
     ]
    },
    {
     "name": "stdout",
     "output_type": "stream",
     "text": [
      "failed  https://raw.githubusercontent.com/googlefonts/noto-emoji/main/svg/emoji_u26f0-ufe0f.svg\n"
     ]
    },
    {
     "name": "stderr",
     "output_type": "stream",
     "text": [
      " 14%|█▍        | 89/638 [00:20<02:19,  3.92it/s]"
     ]
    },
    {
     "name": "stdout",
     "output_type": "stream",
     "text": [
      "failed  https://raw.githubusercontent.com/googlefonts/noto-emoji/main/svg/emoji_u1f327-ufe0f.svg\n"
     ]
    },
    {
     "name": "stderr",
     "output_type": "stream",
     "text": [
      " 14%|█▍        | 92/638 [00:21<02:15,  4.03it/s]"
     ]
    },
    {
     "name": "stdout",
     "output_type": "stream",
     "text": [
      "failed  https://raw.githubusercontent.com/googlefonts/noto-emoji/main/svg/emoji_u262f-ufe0f.svg\n"
     ]
    },
    {
     "name": "stderr",
     "output_type": "stream",
     "text": [
      " 18%|█▊        | 112/638 [00:26<02:17,  3.82it/s]"
     ]
    },
    {
     "name": "stdout",
     "output_type": "stream",
     "text": [
      "failed  https://raw.githubusercontent.com/googlefonts/noto-emoji/main/svg/emoji_uae-ufe0f.svg\n"
     ]
    },
    {
     "name": "stderr",
     "output_type": "stream",
     "text": [
      " 21%|██▏       | 136/638 [00:31<01:59,  4.19it/s]"
     ]
    },
    {
     "name": "stdout",
     "output_type": "stream",
     "text": [
      "failed  https://raw.githubusercontent.com/googlefonts/noto-emoji/main/svg/emoji_u26cf-ufe0f.svg\n"
     ]
    },
    {
     "name": "stderr",
     "output_type": "stream",
     "text": [
      " 22%|██▏       | 139/638 [00:32<02:03,  4.02it/s]"
     ]
    },
    {
     "name": "stdout",
     "output_type": "stream",
     "text": [
      "failed  https://raw.githubusercontent.com/googlefonts/noto-emoji/main/svg/emoji_u1f3cd-ufe0f.svg\n"
     ]
    },
    {
     "name": "stderr",
     "output_type": "stream",
     "text": [
      " 22%|██▏       | 140/638 [00:33<02:05,  3.95it/s]"
     ]
    },
    {
     "name": "stdout",
     "output_type": "stream",
     "text": [
      "failed  https://raw.githubusercontent.com/googlefonts/noto-emoji/main/svg/emoji_u1f6cd-ufe0f.svg\n"
     ]
    },
    {
     "name": "stderr",
     "output_type": "stream",
     "text": [
      " 23%|██▎       | 144/638 [00:33<01:54,  4.33it/s]"
     ]
    },
    {
     "name": "stdout",
     "output_type": "stream",
     "text": [
      "failed  https://raw.githubusercontent.com/googlefonts/noto-emoji/main/svg/emoji_u2604-ufe0f.svg\n"
     ]
    },
    {
     "name": "stderr",
     "output_type": "stream",
     "text": [
      " 24%|██▍       | 152/638 [00:35<01:56,  4.19it/s]"
     ]
    },
    {
     "name": "stdout",
     "output_type": "stream",
     "text": [
      "failed  https://raw.githubusercontent.com/googlefonts/noto-emoji/main/svg/emoji_u1f3ce-ufe0f.svg\n"
     ]
    },
    {
     "name": "stderr",
     "output_type": "stream",
     "text": [
      " 24%|██▍       | 153/638 [00:36<02:00,  4.03it/s]"
     ]
    },
    {
     "name": "stdout",
     "output_type": "stream",
     "text": [
      "failed  https://raw.githubusercontent.com/googlefonts/noto-emoji/main/svg/emoji_ua9-ufe0f.svg\n"
     ]
    },
    {
     "name": "stderr",
     "output_type": "stream",
     "text": [
      " 24%|██▍       | 156/638 [00:36<01:55,  4.16it/s]"
     ]
    },
    {
     "name": "stdout",
     "output_type": "stream",
     "text": [
      "failed  https://raw.githubusercontent.com/googlefonts/noto-emoji/main/svg/emoji_u2764-ufe0f-u200d-u1fa79.svg\n"
     ]
    },
    {
     "name": "stderr",
     "output_type": "stream",
     "text": [
      " 25%|██▌       | 162/638 [00:38<01:57,  4.05it/s]"
     ]
    },
    {
     "name": "stdout",
     "output_type": "stream",
     "text": [
      "failed  https://raw.githubusercontent.com/googlefonts/noto-emoji/main/svg/emoji_u1f3f5-ufe0f.svg\n"
     ]
    },
    {
     "name": "stderr",
     "output_type": "stream",
     "text": [
      " 28%|██▊       | 179/638 [00:42<01:48,  4.23it/s]"
     ]
    },
    {
     "name": "stdout",
     "output_type": "stream",
     "text": [
      "failed  https://raw.githubusercontent.com/googlefonts/noto-emoji/main/svg/emoji_u1f3d4-ufe0f.svg\n"
     ]
    },
    {
     "name": "stderr",
     "output_type": "stream",
     "text": [
      " 32%|███▏      | 201/638 [00:47<01:47,  4.06it/s]"
     ]
    },
    {
     "name": "stdout",
     "output_type": "stream",
     "text": [
      "failed  https://raw.githubusercontent.com/googlefonts/noto-emoji/main/svg/emoji_u1f5dd-ufe0f.svg\n"
     ]
    },
    {
     "name": "stderr",
     "output_type": "stream",
     "text": [
      " 32%|███▏      | 205/638 [00:48<01:44,  4.13it/s]"
     ]
    },
    {
     "name": "stdout",
     "output_type": "stream",
     "text": [
      "failed  https://raw.githubusercontent.com/googlefonts/noto-emoji/main/svg/emoji_u2712-ufe0f.svg\n"
     ]
    },
    {
     "name": "stderr",
     "output_type": "stream",
     "text": [
      " 32%|███▏      | 206/638 [00:48<01:46,  4.06it/s]"
     ]
    },
    {
     "name": "stdout",
     "output_type": "stream",
     "text": [
      "failed  https://raw.githubusercontent.com/googlefonts/noto-emoji/main/svg/emoji_u1f5f3-ufe0f.svg\n"
     ]
    },
    {
     "name": "stderr",
     "output_type": "stream",
     "text": [
      " 33%|███▎      | 210/638 [00:49<01:40,  4.26it/s]"
     ]
    },
    {
     "name": "stdout",
     "output_type": "stream",
     "text": [
      "failed  https://raw.githubusercontent.com/googlefonts/noto-emoji/main/svg/emoji_u1f397-ufe0f.svg\n"
     ]
    },
    {
     "name": "stderr",
     "output_type": "stream",
     "text": [
      " 34%|███▍      | 220/638 [00:51<01:38,  4.25it/s]"
     ]
    },
    {
     "name": "stdout",
     "output_type": "stream",
     "text": [
      "failed  https://raw.githubusercontent.com/googlefonts/noto-emoji/main/svg/emoji_u265f-ufe0f.svg\n"
     ]
    },
    {
     "name": "stderr",
     "output_type": "stream",
     "text": [
      " 36%|███▌      | 227/638 [00:53<01:36,  4.26it/s]"
     ]
    },
    {
     "name": "stdout",
     "output_type": "stream",
     "text": [
      "failed  https://raw.githubusercontent.com/googlefonts/noto-emoji/main/svg/emoji_u1f58c-ufe0f.svg\n"
     ]
    },
    {
     "name": "stderr",
     "output_type": "stream",
     "text": [
      " 37%|███▋      | 238/638 [00:55<01:47,  3.73it/s]"
     ]
    },
    {
     "name": "stdout",
     "output_type": "stream",
     "text": [
      "failed  https://raw.githubusercontent.com/googlefonts/noto-emoji/main/svg/emoji_u260e-ufe0f.svg\n"
     ]
    },
    {
     "name": "stderr",
     "output_type": "stream",
     "text": [
      " 38%|███▊      | 240/638 [00:56<01:41,  3.93it/s]"
     ]
    },
    {
     "name": "stdout",
     "output_type": "stream",
     "text": [
      "failed  https://raw.githubusercontent.com/googlefonts/noto-emoji/main/svg/emoji_u1f62e-u200d-u1f4a8.svg\n"
     ]
    },
    {
     "name": "stderr",
     "output_type": "stream",
     "text": [
      " 39%|███▊      | 246/638 [00:57<01:31,  4.27it/s]"
     ]
    },
    {
     "name": "stdout",
     "output_type": "stream",
     "text": [
      "failed  https://raw.githubusercontent.com/googlefonts/noto-emoji/main/svg/emoji_u1f399-ufe0f.svg\n"
     ]
    },
    {
     "name": "stderr",
     "output_type": "stream",
     "text": [
      " 39%|███▉      | 250/638 [00:58<01:32,  4.17it/s]"
     ]
    },
    {
     "name": "stdout",
     "output_type": "stream",
     "text": [
      "failed  https://raw.githubusercontent.com/googlefonts/noto-emoji/main/svg/emoji_u1f587-ufe0f.svg\n"
     ]
    },
    {
     "name": "stderr",
     "output_type": "stream",
     "text": [
      " 40%|████      | 256/638 [01:00<01:32,  4.12it/s]"
     ]
    },
    {
     "name": "stdout",
     "output_type": "stream",
     "text": [
      "failed  https://raw.githubusercontent.com/googlefonts/noto-emoji/main/svg/emoji_u1f54a-ufe0f.svg\n"
     ]
    },
    {
     "name": "stderr",
     "output_type": "stream",
     "text": [
      " 42%|████▏     | 267/638 [01:02<01:22,  4.48it/s]"
     ]
    },
    {
     "name": "stdout",
     "output_type": "stream",
     "text": [
      "failed  https://raw.githubusercontent.com/googlefonts/noto-emoji/main/svg/emoji_u263a-ufe0f.svg\n"
     ]
    },
    {
     "name": "stderr",
     "output_type": "stream",
     "text": [
      " 44%|████▍     | 281/638 [01:05<01:25,  4.19it/s]"
     ]
    },
    {
     "name": "stdout",
     "output_type": "stream",
     "text": [
      "failed  https://raw.githubusercontent.com/googlefonts/noto-emoji/main/svg/emoji_u1f3da-ufe0f.svg\n"
     ]
    },
    {
     "name": "stderr",
     "output_type": "stream",
     "text": [
      " 45%|████▌     | 290/638 [01:07<01:21,  4.29it/s]"
     ]
    },
    {
     "name": "stdout",
     "output_type": "stream",
     "text": [
      "failed  https://raw.githubusercontent.com/googlefonts/noto-emoji/main/svg/emoji_u2660-ufe0f.svg\n"
     ]
    },
    {
     "name": "stderr",
     "output_type": "stream",
     "text": [
      " 46%|████▋     | 296/638 [01:09<01:18,  4.38it/s]"
     ]
    },
    {
     "name": "stdout",
     "output_type": "stream",
     "text": [
      "failed  https://raw.githubusercontent.com/googlefonts/noto-emoji/main/svg/emoji_u2702-ufe0f.svg\n"
     ]
    },
    {
     "name": "stderr",
     "output_type": "stream",
     "text": [
      " 48%|████▊     | 306/638 [01:11<01:13,  4.51it/s]"
     ]
    },
    {
     "name": "stdout",
     "output_type": "stream",
     "text": [
      "failed  https://raw.githubusercontent.com/googlefonts/noto-emoji/main/svg/emoji_u2622-ufe0f.svg\n"
     ]
    },
    {
     "name": "stderr",
     "output_type": "stream",
     "text": [
      " 49%|████▉     | 313/638 [01:12<01:13,  4.43it/s]"
     ]
    },
    {
     "name": "stdout",
     "output_type": "stream",
     "text": [
      "failed  https://raw.githubusercontent.com/googlefonts/noto-emoji/main/svg/emoji_u1f336-ufe0f.svg\n"
     ]
    },
    {
     "name": "stderr",
     "output_type": "stream",
     "text": [
      " 49%|████▉     | 314/638 [01:13<01:16,  4.23it/s]"
     ]
    },
    {
     "name": "stdout",
     "output_type": "stream",
     "text": [
      "failed  https://raw.githubusercontent.com/googlefonts/noto-emoji/main/svg/emoji_u1f32c-ufe0f.svg\n"
     ]
    },
    {
     "name": "stderr",
     "output_type": "stream",
     "text": [
      " 52%|█████▏    | 330/638 [01:17<01:11,  4.30it/s]"
     ]
    },
    {
     "name": "stdout",
     "output_type": "stream",
     "text": [
      "failed  https://raw.githubusercontent.com/googlefonts/noto-emoji/main/svg/emoji_u1f636-u200d-u1f32b-ufe0f.svg\n"
     ]
    },
    {
     "name": "stderr",
     "output_type": "stream",
     "text": [
      " 53%|█████▎    | 339/638 [01:19<01:13,  4.09it/s]"
     ]
    },
    {
     "name": "stdout",
     "output_type": "stream",
     "text": [
      "failed  https://raw.githubusercontent.com/googlefonts/noto-emoji/main/svg/emoji_u1f570-ufe0f.svg\n"
     ]
    },
    {
     "name": "stderr",
     "output_type": "stream",
     "text": [
      " 54%|█████▍    | 347/638 [01:21<01:02,  4.68it/s]"
     ]
    },
    {
     "name": "stdout",
     "output_type": "stream",
     "text": [
      "failed  https://raw.githubusercontent.com/googlefonts/noto-emoji/main/svg/emoji_u1f3d5-ufe0f.svg\n"
     ]
    },
    {
     "name": "stderr",
     "output_type": "stream",
     "text": [
      " 55%|█████▍    | 349/638 [01:21<01:11,  4.07it/s]"
     ]
    },
    {
     "name": "stdout",
     "output_type": "stream",
     "text": [
      "failed  https://raw.githubusercontent.com/googlefonts/noto-emoji/main/svg/emoji_u1f6e3-ufe0f.svg\n"
     ]
    },
    {
     "name": "stderr",
     "output_type": "stream",
     "text": [
      " 55%|█████▌    | 353/638 [01:22<01:13,  3.87it/s]"
     ]
    },
    {
     "name": "stdout",
     "output_type": "stream",
     "text": [
      "failed  https://raw.githubusercontent.com/googlefonts/noto-emoji/main/svg/emoji_u1f6e0-ufe0f.svg\n"
     ]
    },
    {
     "name": "stderr",
     "output_type": "stream",
     "text": [
      " 56%|█████▌    | 356/638 [01:23<01:13,  3.82it/s]"
     ]
    },
    {
     "name": "stdout",
     "output_type": "stream",
     "text": [
      "failed  https://raw.githubusercontent.com/googlefonts/noto-emoji/main/svg/emoji_u1f5c3-ufe0f.svg\n"
     ]
    },
    {
     "name": "stderr",
     "output_type": "stream",
     "text": [
      " 56%|█████▋    | 360/638 [01:24<01:05,  4.21it/s]"
     ]
    },
    {
     "name": "stdout",
     "output_type": "stream",
     "text": [
      "failed  https://raw.githubusercontent.com/googlefonts/noto-emoji/main/svg/emoji_u1f3df-ufe0f.svg\n"
     ]
    },
    {
     "name": "stderr",
     "output_type": "stream",
     "text": [
      " 57%|█████▋    | 361/638 [01:24<01:09,  4.01it/s]"
     ]
    },
    {
     "name": "stdout",
     "output_type": "stream",
     "text": [
      "failed  https://raw.githubusercontent.com/googlefonts/noto-emoji/main/svg/emoji_u2699-ufe0f.svg\n"
     ]
    },
    {
     "name": "stderr",
     "output_type": "stream",
     "text": [
      " 58%|█████▊    | 372/638 [01:26<01:02,  4.25it/s]"
     ]
    },
    {
     "name": "stdout",
     "output_type": "stream",
     "text": [
      "failed  https://raw.githubusercontent.com/googlefonts/noto-emoji/main/svg/emoji_u2764-ufe0f.svg\n"
     ]
    },
    {
     "name": "stderr",
     "output_type": "stream",
     "text": [
      " 59%|█████▉    | 376/638 [01:27<00:59,  4.38it/s]"
     ]
    },
    {
     "name": "stdout",
     "output_type": "stream",
     "text": [
      "failed  https://raw.githubusercontent.com/googlefonts/noto-emoji/main/svg/emoji_u2623-ufe0f.svg\n"
     ]
    },
    {
     "name": "stderr",
     "output_type": "stream",
     "text": [
      " 59%|█████▉    | 379/638 [01:28<00:59,  4.32it/s]"
     ]
    },
    {
     "name": "stdout",
     "output_type": "stream",
     "text": [
      "failed  https://raw.githubusercontent.com/googlefonts/noto-emoji/main/svg/emoji_u2639-ufe0f.svg\n"
     ]
    },
    {
     "name": "stderr",
     "output_type": "stream",
     "text": [
      " 62%|██████▏   | 397/638 [01:32<00:56,  4.28it/s]"
     ]
    },
    {
     "name": "stdout",
     "output_type": "stream",
     "text": [
      "failed  https://raw.githubusercontent.com/googlefonts/noto-emoji/main/svg/emoji_u2763-ufe0f.svg\n"
     ]
    },
    {
     "name": "stderr",
     "output_type": "stream",
     "text": [
      " 63%|██████▎   | 401/638 [01:33<00:53,  4.39it/s]"
     ]
    },
    {
     "name": "stdout",
     "output_type": "stream",
     "text": [
      "failed  https://raw.githubusercontent.com/googlefonts/noto-emoji/main/svg/emoji_u262e-ufe0f.svg\n"
     ]
    },
    {
     "name": "stderr",
     "output_type": "stream",
     "text": [
      " 65%|██████▍   | 412/638 [01:36<00:55,  4.07it/s]"
     ]
    },
    {
     "name": "stdout",
     "output_type": "stream",
     "text": [
      "failed  https://raw.githubusercontent.com/googlefonts/noto-emoji/main/svg/emoji_u1f577-ufe0f.svg\n"
     ]
    },
    {
     "name": "stderr",
     "output_type": "stream",
     "text": [
      " 65%|██████▍   | 413/638 [01:36<00:55,  4.05it/s]"
     ]
    },
    {
     "name": "stdout",
     "output_type": "stream",
     "text": [
      "failed  https://raw.githubusercontent.com/googlefonts/noto-emoji/main/svg/emoji_u1f5ef-ufe0f.svg\n"
     ]
    },
    {
     "name": "stderr",
     "output_type": "stream",
     "text": [
      " 65%|██████▍   | 414/638 [01:36<00:56,  4.00it/s]"
     ]
    },
    {
     "name": "stdout",
     "output_type": "stream",
     "text": [
      "failed  https://raw.githubusercontent.com/googlefonts/noto-emoji/main/svg/emoji_u2708-ufe0f.svg\n"
     ]
    },
    {
     "name": "stderr",
     "output_type": "stream",
     "text": [
      " 66%|██████▋   | 424/638 [01:38<00:54,  3.91it/s]"
     ]
    },
    {
     "name": "stdout",
     "output_type": "stream",
     "text": [
      "failed  https://raw.githubusercontent.com/googlefonts/noto-emoji/main/svg/emoji_u3030-ufe0f.svg\n"
     ]
    },
    {
     "name": "stderr",
     "output_type": "stream",
     "text": [
      " 67%|██████▋   | 428/638 [01:39<00:48,  4.33it/s]"
     ]
    },
    {
     "name": "stdout",
     "output_type": "stream",
     "text": [
      "failed  https://raw.githubusercontent.com/googlefonts/noto-emoji/main/svg/emoji_u1f3de-ufe0f.svg\n"
     ]
    },
    {
     "name": "stderr",
     "output_type": "stream",
     "text": [
      " 69%|██████▉   | 442/638 [01:43<00:44,  4.44it/s]"
     ]
    },
    {
     "name": "stdout",
     "output_type": "stream",
     "text": [
      "failed  https://raw.githubusercontent.com/googlefonts/noto-emoji/main/svg/emoji_u1f58a-ufe0f.svg\n"
     ]
    },
    {
     "name": "stderr",
     "output_type": "stream",
     "text": [
      " 70%|███████   | 449/638 [01:44<00:43,  4.30it/s]"
     ]
    },
    {
     "name": "stdout",
     "output_type": "stream",
     "text": [
      "failed  https://raw.githubusercontent.com/googlefonts/noto-emoji/main/svg/emoji_u267e-ufe0f.svg\n"
     ]
    },
    {
     "name": "stderr",
     "output_type": "stream",
     "text": [
      " 71%|███████   | 450/638 [01:44<00:46,  4.00it/s]"
     ]
    },
    {
     "name": "stdout",
     "output_type": "stream",
     "text": [
      "failed  https://raw.githubusercontent.com/googlefonts/noto-emoji/main/svg/emoji_u26a0-ufe0f.svg\n"
     ]
    },
    {
     "name": "stderr",
     "output_type": "stream",
     "text": [
      " 74%|███████▍  | 471/638 [01:49<00:39,  4.23it/s]"
     ]
    },
    {
     "name": "stdout",
     "output_type": "stream",
     "text": [
      "failed  https://raw.githubusercontent.com/googlefonts/noto-emoji/main/svg/emoji_u1f573-ufe0f.svg\n"
     ]
    },
    {
     "name": "stderr",
     "output_type": "stream",
     "text": [
      " 74%|███████▍  | 472/638 [01:49<00:40,  4.14it/s]"
     ]
    },
    {
     "name": "stdout",
     "output_type": "stream",
     "text": [
      "failed  https://raw.githubusercontent.com/googlefonts/noto-emoji/main/svg/emoji_u26f8-ufe0f.svg\n"
     ]
    },
    {
     "name": "stderr",
     "output_type": "stream",
     "text": [
      " 76%|███████▌  | 483/638 [01:52<00:40,  3.85it/s]"
     ]
    },
    {
     "name": "stdout",
     "output_type": "stream",
     "text": [
      "failed  https://raw.githubusercontent.com/googlefonts/noto-emoji/main/svg/emoji_u1f39f-ufe0f.svg\n"
     ]
    },
    {
     "name": "stderr",
     "output_type": "stream",
     "text": [
      " 78%|███████▊  | 497/638 [01:56<00:34,  4.07it/s]"
     ]
    },
    {
     "name": "stdout",
     "output_type": "stream",
     "text": [
      "failed  https://raw.githubusercontent.com/googlefonts/noto-emoji/main/svg/emoji_u1f37d-ufe0f.svg\n"
     ]
    },
    {
     "name": "stderr",
     "output_type": "stream",
     "text": [
      " 79%|███████▉  | 503/638 [01:57<00:31,  4.35it/s]"
     ]
    },
    {
     "name": "stdout",
     "output_type": "stream",
     "text": [
      "failed  https://raw.githubusercontent.com/googlefonts/noto-emoji/main/svg/emoji_u1f3db-ufe0f.svg\n"
     ]
    },
    {
     "name": "stderr",
     "output_type": "stream",
     "text": [
      " 79%|███████▉  | 505/638 [01:57<00:30,  4.31it/s]"
     ]
    },
    {
     "name": "stdout",
     "output_type": "stream",
     "text": [
      "failed  https://raw.githubusercontent.com/googlefonts/noto-emoji/main/svg/emoji_u270f-ufe0f.svg\n"
     ]
    },
    {
     "name": "stderr",
     "output_type": "stream",
     "text": [
      " 80%|███████▉  | 510/638 [01:59<00:29,  4.39it/s]"
     ]
    },
    {
     "name": "stdout",
     "output_type": "stream",
     "text": [
      "failed  https://raw.githubusercontent.com/googlefonts/noto-emoji/main/svg/emoji_u2049-ufe0f.svg\n"
     ]
    },
    {
     "name": "stderr",
     "output_type": "stream",
     "text": [
      " 83%|████████▎ | 532/638 [02:04<00:25,  4.19it/s]"
     ]
    },
    {
     "name": "stdout",
     "output_type": "stream",
     "text": [
      "failed  https://raw.githubusercontent.com/googlefonts/noto-emoji/main/svg/emoji_u1f396-ufe0f.svg\n"
     ]
    },
    {
     "name": "stderr",
     "output_type": "stream",
     "text": [
      " 86%|████████▌ | 548/638 [02:07<00:19,  4.52it/s]"
     ]
    },
    {
     "name": "stdout",
     "output_type": "stream",
     "text": [
      "failed  https://raw.githubusercontent.com/googlefonts/noto-emoji/main/svg/emoji_u2696-ufe0f.svg\n"
     ]
    },
    {
     "name": "stderr",
     "output_type": "stream",
     "text": [
      " 87%|████████▋ | 553/638 [02:09<00:21,  4.01it/s]"
     ]
    },
    {
     "name": "stdout",
     "output_type": "stream",
     "text": [
      "failed  https://raw.githubusercontent.com/googlefonts/noto-emoji/main/svg/emoji_u2716-ufe0f.svg\n"
     ]
    },
    {
     "name": "stderr",
     "output_type": "stream",
     "text": [
      " 93%|█████████▎| 594/638 [02:19<00:12,  3.52it/s]"
     ]
    },
    {
     "name": "stdout",
     "output_type": "stream",
     "text": [
      "failed  https://raw.githubusercontent.com/googlefonts/noto-emoji/main/svg/emoji_u1f39b-ufe0f.svg\n"
     ]
    },
    {
     "name": "stderr",
     "output_type": "stream",
     "text": [
      " 95%|█████████▍| 605/638 [02:22<00:08,  4.01it/s]"
     ]
    },
    {
     "name": "stdout",
     "output_type": "stream",
     "text": [
      "failed  https://raw.githubusercontent.com/googlefonts/noto-emoji/main/svg/emoji_u2668-ufe0f.svg\n"
     ]
    },
    {
     "name": "stderr",
     "output_type": "stream",
     "text": [
      " 95%|█████████▌| 607/638 [02:22<00:07,  4.01it/s]"
     ]
    },
    {
     "name": "stdout",
     "output_type": "stream",
     "text": [
      "failed  https://raw.githubusercontent.com/googlefonts/noto-emoji/main/svg/emoji_u1f39a-ufe0f.svg\n"
     ]
    },
    {
     "name": "stderr",
     "output_type": "stream",
     "text": [
      " 97%|█████████▋| 617/638 [02:25<00:05,  3.88it/s]"
     ]
    },
    {
     "name": "stdout",
     "output_type": "stream",
     "text": [
      "failed  https://raw.githubusercontent.com/googlefonts/noto-emoji/main/svg/emoji_u1f3d6-ufe0f.svg\n"
     ]
    },
    {
     "name": "stderr",
     "output_type": "stream",
     "text": [
      " 98%|█████████▊| 625/638 [02:27<00:03,  4.09it/s]"
     ]
    },
    {
     "name": "stdout",
     "output_type": "stream",
     "text": [
      "failed  https://raw.githubusercontent.com/googlefonts/noto-emoji/main/svg/emoji_u26d3-ufe0f.svg\n"
     ]
    },
    {
     "name": "stderr",
     "output_type": "stream",
     "text": [
      " 98%|█████████▊| 626/638 [02:27<00:03,  4.00it/s]"
     ]
    },
    {
     "name": "stdout",
     "output_type": "stream",
     "text": [
      "failed  https://raw.githubusercontent.com/googlefonts/noto-emoji/main/svg/emoji_u1f321-ufe0f.svg\n"
     ]
    },
    {
     "name": "stderr",
     "output_type": "stream",
     "text": [
      " 98%|█████████▊| 627/638 [02:27<00:02,  3.99it/s]"
     ]
    },
    {
     "name": "stdout",
     "output_type": "stream",
     "text": [
      "failed  https://raw.githubusercontent.com/googlefonts/noto-emoji/main/svg/emoji_u1f5d1-ufe0f.svg\n"
     ]
    },
    {
     "name": "stderr",
     "output_type": "stream",
     "text": [
      "100%|█████████▉| 636/638 [02:29<00:00,  4.45it/s]"
     ]
    },
    {
     "name": "stdout",
     "output_type": "stream",
     "text": [
      "failed  https://raw.githubusercontent.com/googlefonts/noto-emoji/main/svg/emoji_u267b-ufe0f.svg\n"
     ]
    },
    {
     "name": "stderr",
     "output_type": "stream",
     "text": [
      "100%|██████████| 638/638 [02:30<00:00,  4.25it/s]\n"
     ]
    }
   ],
   "source": [
    "for name in tqdm.tqdm(todownload):\n",
    "    url=f'https://raw.githubusercontent.com/googlefonts/noto-emoji/main/svg/emoji_{name}.svg'\n",
    "    try:\n",
    "        urllib.request.urlretrieve(url, f\"../data/emojis/bare/{name}.svg\")\n",
    "    except:\n",
    "        print(\"failed \", url)"
   ]
  },
  {
   "cell_type": "code",
   "execution_count": 10,
   "id": "ffdca6be",
   "metadata": {},
   "outputs": [
    {
     "name": "stderr",
     "output_type": "stream",
     "text": [
      "100%|██████████| 40296/40296 [1:04:14<00:00, 10.45it/s]\n"
     ]
    }
   ],
   "source": [
    "for name, url in tqdm.tqdm(onlynew.items()):\n",
    "    try:\n",
    "        urllib.request.urlretrieve(url, f\"../data/emojis/blended/{name}\")\n",
    "    except:\n",
    "        print(\"failed \", url)"
   ]
  },
  {
   "cell_type": "code",
   "execution_count": 5,
   "id": "5f57ea42",
   "metadata": {},
   "outputs": [
    {
     "data": {
      "text/plain": [
       "555"
      ]
     },
     "execution_count": 5,
     "metadata": {},
     "output_type": "execute_result"
    }
   ],
   "source": [
    "len(os.listdir('../data/emojis/bare/'))"
   ]
  },
  {
   "cell_type": "code",
   "execution_count": 6,
   "id": "41fc9c91",
   "metadata": {},
   "outputs": [],
   "source": [
    "#!pip install https://download.lfd.uci.edu/pythonlibs/archived/cairocffi-1.3.0-cp310-cp310-win_amd64.whl\n",
    "#!pip install cairosvg\n",
    "#!pip install -U pycairo\n",
    "#https://download.lfd.uci.edu/pythonlibs/archived/pycairo-1.21.0-cp310-cp310-win_amd64.whl"
   ]
  },
  {
   "cell_type": "code",
   "execution_count": 57,
   "id": "bd5ff30e-aa76-4e56-8c27-99af27276ba0",
   "metadata": {},
   "outputs": [
    {
     "name": "stderr",
     "output_type": "stream",
     "text": [
      "100%|██████████| 555/555 [00:27<00:00, 20.37it/s]\n"
     ]
    }
   ],
   "source": [
    "#cairopath = 'C:\\GTK\\bin'\n",
    "\n",
    "\n",
    "root=\"../data/emojis/bare/\"\n",
    "dest=\"../data/emojis/barepng/\"\n",
    "# Convert SVG to PNG\n",
    "for file in tqdm.tqdm(os.listdir(root)):\n",
    "    destpath=dest+file.split('.')[0]+'.png'\n",
    "    cairosvg.svg2png(url=root+file, write_to=destpath,output_width=534,output_height=534)\n",
    "    # REMOVE ALPHA\n",
    "    bgra=cv2.imread(destpath,cv2.IMREAD_UNCHANGED)\n",
    "    if bgra.shape[-1]>2:\n",
    "        alpha=bgra[...,-1:]>127\n",
    "        bgr=bgra[...,:-1]*alpha+255*(1-alpha)\n",
    "        bgr=bgr.astype(np.uint8)\n",
    "    else:\n",
    "        bgr=bgra\n",
    "    #print(bgr.shape)\n",
    "    cv2.imwrite(destpath,bgr)"
   ]
  },
  {
   "cell_type": "code",
   "execution_count": 45,
   "id": "ca852e95",
   "metadata": {},
   "outputs": [],
   "source": [
    "xmldatapath='../data/emojidescript.xml'\n",
    "xmldata=open(xmldatapath).read()\n",
    "pattern=r'alt=\"([^\"]+)\"\\s+src=\"([^\"]+\\.svg)\"'\n",
    "emojidict={k.split('_')[-1].split('/')[-1].split('.')[0]:v for (v,k) in re.findall(pattern,xmldata)}"
   ]
  },
  {
   "cell_type": "code",
   "execution_count": 54,
   "id": "5b5a8b3c",
   "metadata": {},
   "outputs": [],
   "source": [
    "with open('emojidict.json','w') as f:\n",
    "    json.dump(emojidict,f)"
   ]
  },
  {
   "cell_type": "code",
   "execution_count": 50,
   "id": "7a2fd84e",
   "metadata": {},
   "outputs": [
    {
     "name": "stderr",
     "output_type": "stream",
     "text": [
      "100%|██████████| 555/555 [00:26<00:00, 20.79it/s]\n"
     ]
    }
   ],
   "source": [
    "for file in tqdm.tqdm(os.listdir(root)):\n",
    "    destpath=dest+file.split('.')[0]+'.png'\n",
    "    name=destpath.split('/')[-1].split('.')[0]\n",
    "    cairosvg.svg2png(url=root+file, write_to=destpath,output_width=534,output_height=534)\n",
    "    # REMOVE ALPHA\n",
    "    bgra=cv2.imread(destpath,cv2.IMREAD_UNCHANGED)\n",
    "    if bgra.shape[-1]>2:\n",
    "        alpha=bgra[...,-1:]>127\n",
    "        bgr=bgra[...,:-1]*alpha+255*(1-alpha)\n",
    "        bgr=bgr.astype(np.uint8)\n",
    "    else:\n",
    "        bgr=bgra\n",
    "    cv2.imwrite('../data/emojis/labeladbares/'+emojidict[name]+'.png',bgr)"
   ]
  }
 ],
 "metadata": {
  "kernelspec": {
   "display_name": "Python 3 (ipykernel)",
   "language": "python",
   "name": "python3"
  },
  "language_info": {
   "codemirror_mode": {
    "name": "ipython",
    "version": 3
   },
   "file_extension": ".py",
   "mimetype": "text/x-python",
   "name": "python",
   "nbconvert_exporter": "python",
   "pygments_lexer": "ipython3",
   "version": "3.10.13"
  }
 },
 "nbformat": 4,
 "nbformat_minor": 5
}
