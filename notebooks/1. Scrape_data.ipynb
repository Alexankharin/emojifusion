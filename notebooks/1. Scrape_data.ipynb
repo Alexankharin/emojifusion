{
 "cells": [
  {
   "cell_type": "code",
   "execution_count": 2,
   "id": "ebf22800-ec60-4f9b-86da-71f0ea384158",
   "metadata": {},
   "outputs": [],
   "source": [
    "import json\n",
    "import urllib\n",
    "import numpy as np\n",
    "import re\n",
    "import tqdm\n",
    "import os\n",
    "import sys\n",
    "import cv2\n",
    "#if cairopath not in sys.path:\n",
    "#    sys.path.append(cairopath)\n",
    "import cairosvg"
   ]
  },
  {
   "cell_type": "code",
   "execution_count": 3,
   "id": "8040fb57-7401-4dd4-acc1-91a41ea974cf",
   "metadata": {},
   "outputs": [],
   "source": [
    "#data=json.load(open('../3rd/emoji-kitchen/scripts/emojiOutput.json'))\n",
    "#url='https://emojikitchen.dev/assets/index-39d501e3.js'\n",
    "#urllib.request.urlretrieve(url, '../data/emojisite.json')\n",
    "rawdata=open('../data/emojisite.json').read()\n",
    "#modified_json_str = add_quotes_to_ints_and_words(rawdata)\n",
    "#find the patterns\n",
    "pattern=r'\"https://www\\.gstatic\\.com/android/keyboard/emojikitchen/2[^\"]+\"'\n",
    "#data=json.loads(modified_json_str)   \n",
    "alllinks=re.findall(pattern,rawdata)\n",
    "alllinks.sort()\n",
    "onlynew={}\n",
    "for link in alllinks:\n",
    "    name=link.split('/')[-1][:-1]\n",
    "    onlynew[name]=link[1:-1]"
   ]
  },
  {
   "cell_type": "code",
   "execution_count": 4,
   "id": "1ebe99e1",
   "metadata": {},
   "outputs": [],
   "source": [
    "todownload=set()\n",
    "for name in onlynew.keys():\n",
    "    todownload.add(name.split('.')[0].split('_')[0])\n",
    "    todownload.add(name.split('.')[0].split('_')[1])\n",
    "todownload=list(todownload)"
   ]
  },
  {
   "cell_type": "code",
   "execution_count": 6,
   "id": "a7f5d1f4",
   "metadata": {},
   "outputs": [],
   "source": [
    "os.mkdir('../data/emojis')\n",
    "os.mkdir('../data/emojis/bare')\n",
    "os.mkdir('../data/emojis/barepng')\n",
    "os.mkdir('../data/emojis/labeladbares')\n",
    "os.mkdir('../data/emojis/blended')"
   ]
  },
  {
   "cell_type": "code",
   "execution_count": 7,
   "id": "ded0a791",
   "metadata": {},
   "outputs": [
    {
     "name": "stderr",
     "output_type": "stream",
     "text": [
      " 11%|█         | 71/638 [00:16<02:02,  4.64it/s]"
     ]
    },
    {
     "name": "stdout",
     "output_type": "stream",
     "text": [
      "failed  https://raw.githubusercontent.com/googlefonts/noto-emoji/main/svg/emoji_u1f336-ufe0f.svg\n"
     ]
    },
    {
     "name": "stderr",
     "output_type": "stream",
     "text": [
      " 23%|██▎       | 148/638 [00:33<01:59,  4.10it/s]"
     ]
    },
    {
     "name": "stdout",
     "output_type": "stream",
     "text": [
      "failed  https://raw.githubusercontent.com/googlefonts/noto-emoji/main/svg/emoji_u1f5d1-ufe0f.svg\n"
     ]
    },
    {
     "name": "stderr",
     "output_type": "stream",
     "text": [
      " 32%|███▏      | 201/638 [00:45<01:40,  4.35it/s]"
     ]
    },
    {
     "name": "stdout",
     "output_type": "stream",
     "text": [
      "failed  https://raw.githubusercontent.com/googlefonts/noto-emoji/main/svg/emoji_u270f-ufe0f.svg\n"
     ]
    },
    {
     "name": "stderr",
     "output_type": "stream",
     "text": [
      " 47%|████▋     | 297/638 [01:07<01:27,  3.91it/s]"
     ]
    },
    {
     "name": "stdout",
     "output_type": "stream",
     "text": [
      "failed  https://raw.githubusercontent.com/googlefonts/noto-emoji/main/svg/emoji_u2699-ufe0f.svg\n"
     ]
    },
    {
     "name": "stderr",
     "output_type": "stream",
     "text": [
      " 58%|█████▊    | 371/638 [01:25<01:08,  3.91it/s]"
     ]
    },
    {
     "name": "stdout",
     "output_type": "stream",
     "text": [
      "failed  https://raw.githubusercontent.com/googlefonts/noto-emoji/main/svg/emoji_u1f329-ufe0f.svg\n"
     ]
    },
    {
     "name": "stderr",
     "output_type": "stream",
     "text": [
      " 68%|██████▊   | 436/638 [01:40<00:40,  4.97it/s]"
     ]
    },
    {
     "name": "stdout",
     "output_type": "stream",
     "text": [
      "failed  https://raw.githubusercontent.com/googlefonts/noto-emoji/main/svg/emoji_u1f587-ufe0f.svg\n"
     ]
    },
    {
     "name": "stderr",
     "output_type": "stream",
     "text": [
      " 79%|███████▉  | 507/638 [01:56<00:32,  4.08it/s]"
     ]
    },
    {
     "name": "stdout",
     "output_type": "stream",
     "text": [
      "failed  https://raw.githubusercontent.com/googlefonts/noto-emoji/main/svg/emoji_u1f3dd-ufe0f.svg\n"
     ]
    },
    {
     "name": "stderr",
     "output_type": "stream",
     "text": [
      " 97%|█████████▋| 620/638 [02:22<00:04,  4.42it/s]"
     ]
    },
    {
     "name": "stdout",
     "output_type": "stream",
     "text": [
      "failed  https://raw.githubusercontent.com/googlefonts/noto-emoji/main/svg/emoji_u2708-ufe0f.svg\n"
     ]
    },
    {
     "name": "stderr",
     "output_type": "stream",
     "text": [
      "100%|██████████| 638/638 [02:26<00:00,  4.34it/s]\n"
     ]
    }
   ],
   "source": [
    "ctr=0\n",
    "for name in tqdm.tqdm(todownload):\n",
    "    url=f'https://raw.githubusercontent.com/googlefonts/noto-emoji/main/svg/emoji_{name}.svg'\n",
    "    try:\n",
    "        urllib.request.urlretrieve(url, f\"../data/emojis/bare/{name}.svg\")\n",
    "    except:\n",
    "        ctr=ctr+1\n",
    "        if ctr%10==0:\n",
    "            print(\"failed \", url)"
   ]
  },
  {
   "cell_type": "code",
   "execution_count": 8,
   "id": "e5e9c702",
   "metadata": {},
   "outputs": [
    {
     "data": {
      "text/plain": [
       "555"
      ]
     },
     "execution_count": 8,
     "metadata": {},
     "output_type": "execute_result"
    }
   ],
   "source": [
    "len(os.listdir('../data/emojis/bare/'))"
   ]
  },
  {
   "cell_type": "code",
   "execution_count": 9,
   "id": "bd5ff30e-aa76-4e56-8c27-99af27276ba0",
   "metadata": {},
   "outputs": [
    {
     "name": "stderr",
     "output_type": "stream",
     "text": [
      "100%|██████████| 555/555 [00:20<00:00, 27.67it/s]\n"
     ]
    }
   ],
   "source": [
    "#cairopath = 'C:\\GTK\\bin'\n",
    "root=\"../data/emojis/bare/\"\n",
    "dest=\"../data/emojis/barepng/\"\n",
    "# Convert SVG to PNG\n",
    "for file in tqdm.tqdm(os.listdir(root)):\n",
    "    destpath=dest+file.split('.')[0]+'.png'\n",
    "    cairosvg.svg2png(url=root+file, write_to=destpath,output_width=534,output_height=534)\n",
    "    # REMOVE ALPHA\n",
    "    bgra=cv2.imread(destpath,cv2.IMREAD_UNCHANGED)\n",
    "    if bgra.shape[-1]>2:\n",
    "        alpha=bgra[...,-1:]>127\n",
    "        bgr=bgra[...,:-1]*alpha+255*(1-alpha)\n",
    "        bgr=bgr.astype(np.uint8)\n",
    "    else:\n",
    "        bgr=bgra\n",
    "    #print(bgr.shape)\n",
    "    cv2.imwrite(destpath,bgr)"
   ]
  },
  {
   "cell_type": "code",
   "execution_count": 10,
   "id": "ffdca6be",
   "metadata": {},
   "outputs": [
    {
     "name": "stderr",
     "output_type": "stream",
     "text": [
      "  4%|▍         | 1560/40296 [02:42<1:06:02,  9.78it/s]"
     ]
    }
   ],
   "source": [
    "for name, url in tqdm.tqdm(onlynew.items()):\n",
    "    try:\n",
    "        urllib.request.urlretrieve(url, f\"../data/emojis/blended/{name}\")\n",
    "    except:\n",
    "        print(\"failed \", url)"
   ]
  },
  {
   "cell_type": "code",
   "execution_count": 45,
   "id": "ca852e95",
   "metadata": {},
   "outputs": [],
   "source": [
    "xmldatapath='../data/emojidescript.xml'\n",
    "xmldata=open(xmldatapath).read()\n",
    "pattern=r'alt=\"([^\"]+)\"\\s+src=\"([^\"]+\\.svg)\"'\n",
    "emojidict={k.split('_')[-1].split('/')[-1].split('.')[0]:v for (v,k) in re.findall(pattern,xmldata)}"
   ]
  },
  {
   "cell_type": "code",
   "execution_count": 54,
   "id": "5b5a8b3c",
   "metadata": {},
   "outputs": [],
   "source": [
    "with open('emojidict.json','w') as f:\n",
    "    json.dump(emojidict,f)"
   ]
  },
  {
   "cell_type": "code",
   "execution_count": 50,
   "id": "7a2fd84e",
   "metadata": {},
   "outputs": [
    {
     "name": "stderr",
     "output_type": "stream",
     "text": [
      "100%|██████████| 555/555 [00:26<00:00, 20.79it/s]\n"
     ]
    }
   ],
   "source": [
    "for file in tqdm.tqdm(os.listdir(root)):\n",
    "    destpath=dest+file.split('.')[0]+'.png'\n",
    "    name=destpath.split('/')[-1].split('.')[0]\n",
    "    cairosvg.svg2png(url=root+file, write_to=destpath,output_width=534,output_height=534)\n",
    "    # REMOVE ALPHA\n",
    "    bgra=cv2.imread(destpath,cv2.IMREAD_UNCHANGED)\n",
    "    if bgra.shape[-1]>2:\n",
    "        alpha=bgra[...,-1:]>127\n",
    "        bgr=bgra[...,:-1]*alpha+255*(1-alpha)\n",
    "        bgr=bgr.astype(np.uint8)\n",
    "    else:\n",
    "        bgr=bgra\n",
    "    cv2.imwrite('../data/emojis/labeladbares/'+emojidict[name]+'.png',bgr)"
   ]
  }
 ],
 "metadata": {
  "kernelspec": {
   "display_name": "Python 3 (ipykernel)",
   "language": "python",
   "name": "python3"
  },
  "language_info": {
   "codemirror_mode": {
    "name": "ipython",
    "version": 3
   },
   "file_extension": ".py",
   "mimetype": "text/x-python",
   "name": "python",
   "nbconvert_exporter": "python",
   "pygments_lexer": "ipython3",
   "version": "3.10.13"
  }
 },
 "nbformat": 4,
 "nbformat_minor": 5
}
