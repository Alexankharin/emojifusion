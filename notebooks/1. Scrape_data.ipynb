{
 "cells": [
  {
   "cell_type": "code",
   "execution_count": 12,
   "id": "ebf22800-ec60-4f9b-86da-71f0ea384158",
   "metadata": {},
   "outputs": [],
   "source": [
    "import json\n",
    "import urllib\n",
    "import numpy as np\n",
    "import re\n",
    "import tqdm\n",
    "import os"
   ]
  },
  {
   "cell_type": "code",
   "execution_count": 2,
   "id": "8040fb57-7401-4dd4-acc1-91a41ea974cf",
   "metadata": {},
   "outputs": [],
   "source": [
    "#data=json.load(open('../3rd/emoji-kitchen/scripts/emojiOutput.json'))\n",
    "url='https://emojikitchen.dev/assets/index-39d501e3.js'\n",
    "urllib.request.urlretrieve(url, '../data/emojisite.json')\n",
    "url='https://emojikitchen.dev'\n",
    "urllib.request.urlretrieve(url, '../data/emojisite.html')\n",
    "rawdata=open('../data/emojisite.json').read()\n",
    "#modified_json_str = add_quotes_to_ints_and_words(rawdata)\n",
    "#find the patterns\n",
    "pattern=r'\"https://www\\.gstatic\\.com/android/keyboard/emojikitchen/2[^\"]+\"'\n",
    "#data=json.loads(modified_json_str)   \n",
    "alllinks=re.findall(pattern,rawdata)\n",
    "alllinks.sort()\n",
    "onlynew={}\n",
    "for link in alllinks:\n",
    "    name=link.split('/')[-1][:-1]\n",
    "    onlynew[name]=link[1:-1]"
   ]
  },
  {
   "cell_type": "code",
   "execution_count": 6,
   "id": "1ebe99e1",
   "metadata": {},
   "outputs": [],
   "source": [
    "todownload=set()\n",
    "for name in onlynew.keys():\n",
    "    todownload.add(name.split('.')[0].split('_')[0])\n",
    "    todownload.add(name.split('.')[0].split('_')[1])\n",
    "todownload=list(todownload)"
   ]
  },
  {
   "cell_type": "code",
   "execution_count": 7,
   "id": "58438601",
   "metadata": {},
   "outputs": [],
   "source": [
    "url=f'https://raw.githubusercontent.com/googlefonts/noto-emoji/main/svg/emoji_{todownload[0]}.svg'"
   ]
  },
  {
   "cell_type": "code",
   "execution_count": 9,
   "id": "727a689c",
   "metadata": {},
   "outputs": [
    {
     "data": {
      "text/plain": [
       "('../data/emojis/bare/u1f999.svg', <http.client.HTTPMessage at 0x266d3c87b50>)"
      ]
     },
     "execution_count": 9,
     "metadata": {},
     "output_type": "execute_result"
    }
   ],
   "source": [
    "urllib.request.urlretrieve(url, f\"../data/emojis/bare/{todownload[0]}.svg\")"
   ]
  },
  {
   "cell_type": "code",
   "execution_count": 10,
   "id": "ded0a791",
   "metadata": {},
   "outputs": [
    {
     "name": "stderr",
     "output_type": "stream",
     "text": [
      "  1%|          | 5/638 [00:01<04:12,  2.51it/s]"
     ]
    },
    {
     "name": "stdout",
     "output_type": "stream",
     "text": [
      "failed  https://raw.githubusercontent.com/googlefonts/noto-emoji/main/svg/emoji_u1f3f5-ufe0f.svg\n"
     ]
    },
    {
     "name": "stderr",
     "output_type": "stream",
     "text": [
      "  2%|▏         | 12/638 [00:04<03:56,  2.65it/s]"
     ]
    },
    {
     "name": "stdout",
     "output_type": "stream",
     "text": [
      "failed  https://raw.githubusercontent.com/googlefonts/noto-emoji/main/svg/emoji_u1f39f-ufe0f.svg\n"
     ]
    },
    {
     "name": "stderr",
     "output_type": "stream",
     "text": [
      "  2%|▏         | 13/638 [00:04<03:51,  2.70it/s]"
     ]
    },
    {
     "name": "stdout",
     "output_type": "stream",
     "text": [
      "failed  https://raw.githubusercontent.com/googlefonts/noto-emoji/main/svg/emoji_u2622-ufe0f.svg\n"
     ]
    },
    {
     "name": "stderr",
     "output_type": "stream",
     "text": [
      "  3%|▎         | 17/638 [00:06<04:22,  2.37it/s]"
     ]
    },
    {
     "name": "stdout",
     "output_type": "stream",
     "text": [
      "failed  https://raw.githubusercontent.com/googlefonts/noto-emoji/main/svg/emoji_u1f397-ufe0f.svg\n"
     ]
    },
    {
     "name": "stderr",
     "output_type": "stream",
     "text": [
      "  3%|▎         | 20/638 [00:07<04:18,  2.39it/s]"
     ]
    },
    {
     "name": "stdout",
     "output_type": "stream",
     "text": [
      "failed  https://raw.githubusercontent.com/googlefonts/noto-emoji/main/svg/emoji_u262f-ufe0f.svg\n"
     ]
    },
    {
     "name": "stderr",
     "output_type": "stream",
     "text": [
      "  3%|▎         | 21/638 [00:08<04:13,  2.44it/s]"
     ]
    },
    {
     "name": "stdout",
     "output_type": "stream",
     "text": [
      "failed  https://raw.githubusercontent.com/googlefonts/noto-emoji/main/svg/emoji_u2665-ufe0f.svg\n"
     ]
    },
    {
     "name": "stderr",
     "output_type": "stream",
     "text": [
      "  4%|▍         | 28/638 [00:10<03:57,  2.57it/s]"
     ]
    },
    {
     "name": "stdout",
     "output_type": "stream",
     "text": [
      "failed  https://raw.githubusercontent.com/googlefonts/noto-emoji/main/svg/emoji_u1f54a-ufe0f.svg\n"
     ]
    },
    {
     "name": "stderr",
     "output_type": "stream",
     "text": [
      "  5%|▍         | 31/638 [00:11<04:01,  2.51it/s]"
     ]
    },
    {
     "name": "stdout",
     "output_type": "stream",
     "text": [
      "failed  https://raw.githubusercontent.com/googlefonts/noto-emoji/main/svg/emoji_u1f577-ufe0f.svg\n"
     ]
    },
    {
     "name": "stderr",
     "output_type": "stream",
     "text": [
      "  5%|▌         | 35/638 [00:13<03:40,  2.74it/s]"
     ]
    },
    {
     "name": "stdout",
     "output_type": "stream",
     "text": [
      "failed  https://raw.githubusercontent.com/googlefonts/noto-emoji/main/svg/emoji_u2763-ufe0f.svg\n"
     ]
    },
    {
     "name": "stderr",
     "output_type": "stream",
     "text": [
      "  6%|▌         | 37/638 [00:14<04:02,  2.48it/s]"
     ]
    },
    {
     "name": "stdout",
     "output_type": "stream",
     "text": [
      "failed  https://raw.githubusercontent.com/googlefonts/noto-emoji/main/svg/emoji_u2708-ufe0f.svg\n"
     ]
    },
    {
     "name": "stderr",
     "output_type": "stream",
     "text": [
      "  6%|▌         | 38/638 [00:14<03:59,  2.50it/s]"
     ]
    },
    {
     "name": "stdout",
     "output_type": "stream",
     "text": [
      "failed  https://raw.githubusercontent.com/googlefonts/noto-emoji/main/svg/emoji_u1f39b-ufe0f.svg\n"
     ]
    },
    {
     "name": "stderr",
     "output_type": "stream",
     "text": [
      " 10%|▉         | 63/638 [00:23<03:47,  2.53it/s]"
     ]
    },
    {
     "name": "stdout",
     "output_type": "stream",
     "text": [
      "failed  https://raw.githubusercontent.com/googlefonts/noto-emoji/main/svg/emoji_u1f3cd-ufe0f.svg\n"
     ]
    },
    {
     "name": "stderr",
     "output_type": "stream",
     "text": [
      " 10%|█         | 64/638 [00:24<03:54,  2.45it/s]"
     ]
    },
    {
     "name": "stdout",
     "output_type": "stream",
     "text": [
      "failed  https://raw.githubusercontent.com/googlefonts/noto-emoji/main/svg/emoji_u1f441-ufe0f.svg\n"
     ]
    },
    {
     "name": "stderr",
     "output_type": "stream",
     "text": [
      " 12%|█▏        | 77/638 [00:29<03:33,  2.63it/s]"
     ]
    },
    {
     "name": "stdout",
     "output_type": "stream",
     "text": [
      "failed  https://raw.githubusercontent.com/googlefonts/noto-emoji/main/svg/emoji_u1f5e3-ufe0f.svg\n"
     ]
    },
    {
     "name": "stderr",
     "output_type": "stream",
     "text": [
      " 13%|█▎        | 86/638 [00:32<03:22,  2.73it/s]"
     ]
    },
    {
     "name": "stdout",
     "output_type": "stream",
     "text": [
      "failed  https://raw.githubusercontent.com/googlefonts/noto-emoji/main/svg/emoji_u2716-ufe0f.svg\n"
     ]
    },
    {
     "name": "stderr",
     "output_type": "stream",
     "text": [
      " 16%|█▌        | 103/638 [00:39<03:45,  2.37it/s]"
     ]
    },
    {
     "name": "stdout",
     "output_type": "stream",
     "text": [
      "failed  https://raw.githubusercontent.com/googlefonts/noto-emoji/main/svg/emoji_u1f5f3-ufe0f.svg\n"
     ]
    },
    {
     "name": "stderr",
     "output_type": "stream",
     "text": [
      " 16%|█▋        | 104/638 [00:39<03:43,  2.39it/s]"
     ]
    },
    {
     "name": "stdout",
     "output_type": "stream",
     "text": [
      "failed  https://raw.githubusercontent.com/googlefonts/noto-emoji/main/svg/emoji_u2702-ufe0f.svg\n"
     ]
    },
    {
     "name": "stderr",
     "output_type": "stream",
     "text": [
      " 18%|█▊        | 118/638 [00:45<03:47,  2.29it/s]"
     ]
    },
    {
     "name": "stdout",
     "output_type": "stream",
     "text": [
      "failed  https://raw.githubusercontent.com/googlefonts/noto-emoji/main/svg/emoji_u1f58d-ufe0f.svg\n"
     ]
    },
    {
     "name": "stderr",
     "output_type": "stream",
     "text": [
      " 19%|█▉        | 121/638 [00:46<03:22,  2.56it/s]"
     ]
    },
    {
     "name": "stdout",
     "output_type": "stream",
     "text": [
      "failed  https://raw.githubusercontent.com/googlefonts/noto-emoji/main/svg/emoji_u1f6e3-ufe0f.svg\n"
     ]
    },
    {
     "name": "stderr",
     "output_type": "stream",
     "text": [
      " 20%|█▉        | 127/638 [00:48<03:11,  2.67it/s]"
     ]
    },
    {
     "name": "stdout",
     "output_type": "stream",
     "text": [
      "failed  https://raw.githubusercontent.com/googlefonts/noto-emoji/main/svg/emoji_u1f6cd-ufe0f.svg\n"
     ]
    },
    {
     "name": "stderr",
     "output_type": "stream",
     "text": [
      " 21%|██▏       | 136/638 [00:52<03:27,  2.42it/s]"
     ]
    },
    {
     "name": "stdout",
     "output_type": "stream",
     "text": [
      "failed  https://raw.githubusercontent.com/googlefonts/noto-emoji/main/svg/emoji_u1f336-ufe0f.svg\n"
     ]
    },
    {
     "name": "stderr",
     "output_type": "stream",
     "text": [
      " 23%|██▎       | 145/638 [00:55<03:13,  2.54it/s]"
     ]
    },
    {
     "name": "stdout",
     "output_type": "stream",
     "text": [
      "failed  https://raw.githubusercontent.com/googlefonts/noto-emoji/main/svg/emoji_u1f3db-ufe0f.svg\n"
     ]
    },
    {
     "name": "stderr",
     "output_type": "stream",
     "text": [
      " 24%|██▍       | 153/638 [00:58<02:55,  2.76it/s]"
     ]
    },
    {
     "name": "stdout",
     "output_type": "stream",
     "text": [
      "failed  https://raw.githubusercontent.com/googlefonts/noto-emoji/main/svg/emoji_u1f327-ufe0f.svg\n"
     ]
    },
    {
     "name": "stderr",
     "output_type": "stream",
     "text": [
      " 25%|██▌       | 160/638 [01:01<02:56,  2.71it/s]"
     ]
    },
    {
     "name": "stdout",
     "output_type": "stream",
     "text": [
      "failed  https://raw.githubusercontent.com/googlefonts/noto-emoji/main/svg/emoji_u1f3df-ufe0f.svg\n"
     ]
    },
    {
     "name": "stderr",
     "output_type": "stream",
     "text": [
      " 27%|██▋       | 170/638 [01:05<03:05,  2.52it/s]"
     ]
    },
    {
     "name": "stdout",
     "output_type": "stream",
     "text": [
      "failed  https://raw.githubusercontent.com/googlefonts/noto-emoji/main/svg/emoji_u1f636-u200d-u1f32b-ufe0f.svg\n"
     ]
    },
    {
     "name": "stderr",
     "output_type": "stream",
     "text": [
      " 27%|██▋       | 173/638 [01:06<02:58,  2.61it/s]"
     ]
    },
    {
     "name": "stdout",
     "output_type": "stream",
     "text": [
      "failed  https://raw.githubusercontent.com/googlefonts/noto-emoji/main/svg/emoji_u2602-ufe0f.svg\n"
     ]
    },
    {
     "name": "stderr",
     "output_type": "stream",
     "text": [
      " 28%|██▊       | 177/638 [01:08<02:53,  2.66it/s]"
     ]
    },
    {
     "name": "stdout",
     "output_type": "stream",
     "text": [
      "failed  https://raw.githubusercontent.com/googlefonts/noto-emoji/main/svg/emoji_u267b-ufe0f.svg\n"
     ]
    },
    {
     "name": "stderr",
     "output_type": "stream",
     "text": [
      " 29%|██▉       | 185/638 [01:11<03:17,  2.29it/s]"
     ]
    },
    {
     "name": "stdout",
     "output_type": "stream",
     "text": [
      "failed  https://raw.githubusercontent.com/googlefonts/noto-emoji/main/svg/emoji_u260e-ufe0f.svg\n"
     ]
    },
    {
     "name": "stderr",
     "output_type": "stream",
     "text": [
      " 29%|██▉       | 187/638 [01:12<03:02,  2.46it/s]"
     ]
    },
    {
     "name": "stdout",
     "output_type": "stream",
     "text": [
      "failed  https://raw.githubusercontent.com/googlefonts/noto-emoji/main/svg/emoji_u2712-ufe0f.svg\n"
     ]
    },
    {
     "name": "stderr",
     "output_type": "stream",
     "text": [
      " 30%|██▉       | 189/638 [01:12<02:53,  2.58it/s]"
     ]
    },
    {
     "name": "stdout",
     "output_type": "stream",
     "text": [
      "failed  https://raw.githubusercontent.com/googlefonts/noto-emoji/main/svg/emoji_u1f3de-ufe0f.svg\n"
     ]
    },
    {
     "name": "stderr",
     "output_type": "stream",
     "text": [
      " 32%|███▏      | 202/638 [01:17<02:47,  2.60it/s]"
     ]
    },
    {
     "name": "stdout",
     "output_type": "stream",
     "text": [
      "failed  https://raw.githubusercontent.com/googlefonts/noto-emoji/main/svg/emoji_u1f37d-ufe0f.svg\n"
     ]
    },
    {
     "name": "stderr",
     "output_type": "stream",
     "text": [
      " 32%|███▏      | 203/638 [01:18<02:39,  2.72it/s]"
     ]
    },
    {
     "name": "stdout",
     "output_type": "stream",
     "text": [
      "failed  https://raw.githubusercontent.com/googlefonts/noto-emoji/main/svg/emoji_u2623-ufe0f.svg\n"
     ]
    },
    {
     "name": "stderr",
     "output_type": "stream",
     "text": [
      " 37%|███▋      | 235/638 [01:30<03:03,  2.20it/s]"
     ]
    },
    {
     "name": "stdout",
     "output_type": "stream",
     "text": [
      "failed  https://raw.githubusercontent.com/googlefonts/noto-emoji/main/svg/emoji_u2764-ufe0f-u200d-u1fa79.svg\n"
     ]
    },
    {
     "name": "stderr",
     "output_type": "stream",
     "text": [
      " 39%|███▊      | 246/638 [01:34<02:34,  2.54it/s]"
     ]
    },
    {
     "name": "stdout",
     "output_type": "stream",
     "text": [
      "failed  https://raw.githubusercontent.com/googlefonts/noto-emoji/main/svg/emoji_u2122-ufe0f.svg\n"
     ]
    },
    {
     "name": "stderr",
     "output_type": "stream",
     "text": [
      " 39%|███▊      | 247/638 [01:35<02:34,  2.53it/s]"
     ]
    },
    {
     "name": "stdout",
     "output_type": "stream",
     "text": [
      "failed  https://raw.githubusercontent.com/googlefonts/noto-emoji/main/svg/emoji_u1f570-ufe0f.svg\n"
     ]
    },
    {
     "name": "stderr",
     "output_type": "stream",
     "text": [
      " 39%|███▉      | 250/638 [01:36<03:02,  2.13it/s]"
     ]
    },
    {
     "name": "stdout",
     "output_type": "stream",
     "text": [
      "failed  https://raw.githubusercontent.com/googlefonts/noto-emoji/main/svg/emoji_u1f32c-ufe0f.svg\n"
     ]
    },
    {
     "name": "stderr",
     "output_type": "stream",
     "text": [
      " 41%|████      | 263/638 [01:42<02:41,  2.33it/s]"
     ]
    },
    {
     "name": "stdout",
     "output_type": "stream",
     "text": [
      "failed  https://raw.githubusercontent.com/googlefonts/noto-emoji/main/svg/emoji_u2660-ufe0f.svg\n"
     ]
    },
    {
     "name": "stderr",
     "output_type": "stream",
     "text": [
      " 42%|████▏     | 271/638 [01:45<02:27,  2.48it/s]"
     ]
    },
    {
     "name": "stdout",
     "output_type": "stream",
     "text": [
      "failed  https://raw.githubusercontent.com/googlefonts/noto-emoji/main/svg/emoji_u1f3ce-ufe0f.svg\n"
     ]
    },
    {
     "name": "stderr",
     "output_type": "stream",
     "text": [
      " 43%|████▎     | 274/638 [01:46<02:10,  2.80it/s]"
     ]
    },
    {
     "name": "stdout",
     "output_type": "stream",
     "text": [
      "failed  https://raw.githubusercontent.com/googlefonts/noto-emoji/main/svg/emoji_u3030-ufe0f.svg\n"
     ]
    },
    {
     "name": "stderr",
     "output_type": "stream",
     "text": [
      " 43%|████▎     | 277/638 [01:47<02:27,  2.45it/s]"
     ]
    },
    {
     "name": "stdout",
     "output_type": "stream",
     "text": [
      "failed  https://raw.githubusercontent.com/googlefonts/noto-emoji/main/svg/emoji_u1f573-ufe0f.svg\n"
     ]
    },
    {
     "name": "stderr",
     "output_type": "stream",
     "text": [
      " 45%|████▌     | 289/638 [01:52<02:17,  2.54it/s]"
     ]
    },
    {
     "name": "stdout",
     "output_type": "stream",
     "text": [
      "failed  https://raw.githubusercontent.com/googlefonts/noto-emoji/main/svg/emoji_u262e-ufe0f.svg\n"
     ]
    },
    {
     "name": "stderr",
     "output_type": "stream",
     "text": [
      " 48%|████▊     | 308/638 [01:59<02:02,  2.69it/s]"
     ]
    },
    {
     "name": "stdout",
     "output_type": "stream",
     "text": [
      "failed  https://raw.githubusercontent.com/googlefonts/noto-emoji/main/svg/emoji_u2699-ufe0f.svg\n"
     ]
    },
    {
     "name": "stderr",
     "output_type": "stream",
     "text": [
      " 49%|████▊     | 311/638 [02:00<02:04,  2.63it/s]"
     ]
    },
    {
     "name": "stdout",
     "output_type": "stream",
     "text": [
      "failed  https://raw.githubusercontent.com/googlefonts/noto-emoji/main/svg/emoji_u1f5dd-ufe0f.svg\n"
     ]
    },
    {
     "name": "stderr",
     "output_type": "stream",
     "text": [
      " 50%|█████     | 320/638 [02:04<02:15,  2.34it/s]"
     ]
    },
    {
     "name": "stdout",
     "output_type": "stream",
     "text": [
      "failed  https://raw.githubusercontent.com/googlefonts/noto-emoji/main/svg/emoji_u1f39a-ufe0f.svg\n"
     ]
    },
    {
     "name": "stderr",
     "output_type": "stream",
     "text": [
      " 50%|█████     | 322/638 [02:05<02:06,  2.49it/s]"
     ]
    },
    {
     "name": "stdout",
     "output_type": "stream",
     "text": [
      "failed  https://raw.githubusercontent.com/googlefonts/noto-emoji/main/svg/emoji_u267e-ufe0f.svg\n"
     ]
    },
    {
     "name": "stderr",
     "output_type": "stream",
     "text": [
      " 51%|█████     | 324/638 [02:05<01:59,  2.62it/s]"
     ]
    },
    {
     "name": "stdout",
     "output_type": "stream",
     "text": [
      "failed  https://raw.githubusercontent.com/googlefonts/noto-emoji/main/svg/emoji_u1f396-ufe0f.svg\n"
     ]
    },
    {
     "name": "stderr",
     "output_type": "stream",
     "text": [
      " 52%|█████▏    | 333/638 [02:09<01:59,  2.56it/s]"
     ]
    },
    {
     "name": "stdout",
     "output_type": "stream",
     "text": [
      "failed  https://raw.githubusercontent.com/googlefonts/noto-emoji/main/svg/emoji_u1f587-ufe0f.svg\n"
     ]
    },
    {
     "name": "stderr",
     "output_type": "stream",
     "text": [
      " 53%|█████▎    | 339/638 [02:11<01:54,  2.62it/s]"
     ]
    },
    {
     "name": "stdout",
     "output_type": "stream",
     "text": [
      "failed  https://raw.githubusercontent.com/googlefonts/noto-emoji/main/svg/emoji_u2604-ufe0f.svg\n"
     ]
    },
    {
     "name": "stderr",
     "output_type": "stream",
     "text": [
      " 53%|█████▎    | 341/638 [02:12<01:54,  2.60it/s]"
     ]
    },
    {
     "name": "stdout",
     "output_type": "stream",
     "text": [
      "failed  https://raw.githubusercontent.com/googlefonts/noto-emoji/main/svg/emoji_u26f8-ufe0f.svg\n"
     ]
    },
    {
     "name": "stderr",
     "output_type": "stream",
     "text": [
      " 54%|█████▍    | 344/638 [02:13<01:41,  2.89it/s]"
     ]
    },
    {
     "name": "stdout",
     "output_type": "stream",
     "text": [
      "failed  https://raw.githubusercontent.com/googlefonts/noto-emoji/main/svg/emoji_u1f5c3-ufe0f.svg\n"
     ]
    },
    {
     "name": "stderr",
     "output_type": "stream",
     "text": [
      " 56%|█████▌    | 357/638 [02:17<01:44,  2.70it/s]"
     ]
    },
    {
     "name": "stdout",
     "output_type": "stream",
     "text": [
      "failed  https://raw.githubusercontent.com/googlefonts/noto-emoji/main/svg/emoji_u26f0-ufe0f.svg\n"
     ]
    },
    {
     "name": "stderr",
     "output_type": "stream",
     "text": [
      " 57%|█████▋    | 364/638 [02:20<01:43,  2.64it/s]"
     ]
    },
    {
     "name": "stdout",
     "output_type": "stream",
     "text": [
      "failed  https://raw.githubusercontent.com/googlefonts/noto-emoji/main/svg/emoji_u1f399-ufe0f.svg\n"
     ]
    },
    {
     "name": "stderr",
     "output_type": "stream",
     "text": [
      " 58%|█████▊    | 369/638 [02:22<01:51,  2.40it/s]"
     ]
    },
    {
     "name": "stdout",
     "output_type": "stream",
     "text": [
      "failed  https://raw.githubusercontent.com/googlefonts/noto-emoji/main/svg/emoji_u26d3-ufe0f.svg\n"
     ]
    },
    {
     "name": "stderr",
     "output_type": "stream",
     "text": [
      " 59%|█████▉    | 378/638 [02:25<01:34,  2.74it/s]"
     ]
    },
    {
     "name": "stdout",
     "output_type": "stream",
     "text": [
      "failed  https://raw.githubusercontent.com/googlefonts/noto-emoji/main/svg/emoji_u263a-ufe0f.svg\n"
     ]
    },
    {
     "name": "stderr",
     "output_type": "stream",
     "text": [
      " 63%|██████▎   | 401/638 [02:34<01:49,  2.16it/s]"
     ]
    },
    {
     "name": "stdout",
     "output_type": "stream",
     "text": [
      "failed  https://raw.githubusercontent.com/googlefonts/noto-emoji/main/svg/emoji_ua9-ufe0f.svg\n"
     ]
    },
    {
     "name": "stderr",
     "output_type": "stream",
     "text": [
      " 63%|██████▎   | 404/638 [02:35<01:31,  2.55it/s]"
     ]
    },
    {
     "name": "stdout",
     "output_type": "stream",
     "text": [
      "failed  https://raw.githubusercontent.com/googlefonts/noto-emoji/main/svg/emoji_u1f58a-ufe0f.svg\n"
     ]
    },
    {
     "name": "stderr",
     "output_type": "stream",
     "text": [
      " 64%|██████▍   | 408/638 [02:37<01:28,  2.59it/s]"
     ]
    },
    {
     "name": "stdout",
     "output_type": "stream",
     "text": [
      "failed  https://raw.githubusercontent.com/googlefonts/noto-emoji/main/svg/emoji_u270f-ufe0f.svg\n"
     ]
    },
    {
     "name": "stderr",
     "output_type": "stream",
     "text": [
      " 64%|██████▍   | 411/638 [02:38<01:27,  2.58it/s]"
     ]
    },
    {
     "name": "stdout",
     "output_type": "stream",
     "text": [
      "failed  https://raw.githubusercontent.com/googlefonts/noto-emoji/main/svg/emoji_u2668-ufe0f.svg\n"
     ]
    },
    {
     "name": "stderr",
     "output_type": "stream",
     "text": [
      " 67%|██████▋   | 426/638 [02:44<01:23,  2.54it/s]"
     ]
    },
    {
     "name": "stdout",
     "output_type": "stream",
     "text": [
      "failed  https://raw.githubusercontent.com/googlefonts/noto-emoji/main/svg/emoji_u1f3dd-ufe0f.svg\n"
     ]
    },
    {
     "name": "stderr",
     "output_type": "stream",
     "text": [
      " 70%|██████▉   | 444/638 [02:51<01:27,  2.21it/s]"
     ]
    },
    {
     "name": "stdout",
     "output_type": "stream",
     "text": [
      "failed  https://raw.githubusercontent.com/googlefonts/noto-emoji/main/svg/emoji_u1f3d4-ufe0f.svg\n"
     ]
    },
    {
     "name": "stderr",
     "output_type": "stream",
     "text": [
      " 70%|███████   | 447/638 [02:53<01:25,  2.22it/s]"
     ]
    },
    {
     "name": "stdout",
     "output_type": "stream",
     "text": [
      "failed  https://raw.githubusercontent.com/googlefonts/noto-emoji/main/svg/emoji_uae-ufe0f.svg\n"
     ]
    },
    {
     "name": "stderr",
     "output_type": "stream",
     "text": [
      " 76%|███████▌  | 483/638 [03:07<01:00,  2.55it/s]"
     ]
    },
    {
     "name": "stdout",
     "output_type": "stream",
     "text": [
      "failed  https://raw.githubusercontent.com/googlefonts/noto-emoji/main/svg/emoji_u1f6e0-ufe0f.svg\n"
     ]
    },
    {
     "name": "stderr",
     "output_type": "stream",
     "text": [
      " 76%|███████▋  | 487/638 [03:09<01:01,  2.46it/s]"
     ]
    },
    {
     "name": "stdout",
     "output_type": "stream",
     "text": [
      "failed  https://raw.githubusercontent.com/googlefonts/noto-emoji/main/svg/emoji_u2764-ufe0f.svg\n"
     ]
    },
    {
     "name": "stderr",
     "output_type": "stream",
     "text": [
      " 79%|███████▉  | 504/638 [03:15<00:49,  2.72it/s]"
     ]
    },
    {
     "name": "stdout",
     "output_type": "stream",
     "text": [
      "failed  https://raw.githubusercontent.com/googlefonts/noto-emoji/main/svg/emoji_u2696-ufe0f.svg\n"
     ]
    },
    {
     "name": "stderr",
     "output_type": "stream",
     "text": [
      " 84%|████████▍ | 538/638 [03:28<00:35,  2.85it/s]"
     ]
    },
    {
     "name": "stdout",
     "output_type": "stream",
     "text": [
      "failed  https://raw.githubusercontent.com/googlefonts/noto-emoji/main/svg/emoji_u1f329-ufe0f.svg\n"
     ]
    },
    {
     "name": "stderr",
     "output_type": "stream",
     "text": [
      " 84%|████████▍ | 539/638 [03:29<00:34,  2.88it/s]"
     ]
    },
    {
     "name": "stdout",
     "output_type": "stream",
     "text": [
      "failed  https://raw.githubusercontent.com/googlefonts/noto-emoji/main/svg/emoji_u1f3d6-ufe0f.svg\n"
     ]
    },
    {
     "name": "stderr",
     "output_type": "stream",
     "text": [
      " 85%|████████▍ | 542/638 [03:30<00:33,  2.83it/s]"
     ]
    },
    {
     "name": "stdout",
     "output_type": "stream",
     "text": [
      "failed  https://raw.githubusercontent.com/googlefonts/noto-emoji/main/svg/emoji_u1f6cb-ufe0f.svg\n"
     ]
    },
    {
     "name": "stderr",
     "output_type": "stream",
     "text": [
      " 86%|████████▌ | 548/638 [03:32<00:33,  2.69it/s]"
     ]
    },
    {
     "name": "stdout",
     "output_type": "stream",
     "text": [
      "failed  https://raw.githubusercontent.com/googlefonts/noto-emoji/main/svg/emoji_u1f5a8-ufe0f.svg\n"
     ]
    },
    {
     "name": "stderr",
     "output_type": "stream",
     "text": [
      " 86%|████████▋ | 551/638 [03:33<00:31,  2.73it/s]"
     ]
    },
    {
     "name": "stdout",
     "output_type": "stream",
     "text": [
      "failed  https://raw.githubusercontent.com/googlefonts/noto-emoji/main/svg/emoji_u1f62e-u200d-u1f4a8.svg\n"
     ]
    },
    {
     "name": "stderr",
     "output_type": "stream",
     "text": [
      " 87%|████████▋ | 552/638 [03:33<00:32,  2.67it/s]"
     ]
    },
    {
     "name": "stdout",
     "output_type": "stream",
     "text": [
      "failed  https://raw.githubusercontent.com/googlefonts/noto-emoji/main/svg/emoji_u2639-ufe0f.svg\n"
     ]
    },
    {
     "name": "stderr",
     "output_type": "stream",
     "text": [
      " 87%|████████▋ | 557/638 [03:35<00:28,  2.85it/s]"
     ]
    },
    {
     "name": "stdout",
     "output_type": "stream",
     "text": [
      "failed  https://raw.githubusercontent.com/googlefonts/noto-emoji/main/svg/emoji_u1f3d5-ufe0f.svg\n"
     ]
    },
    {
     "name": "stderr",
     "output_type": "stream",
     "text": [
      " 88%|████████▊ | 559/638 [03:36<00:30,  2.61it/s]"
     ]
    },
    {
     "name": "stdout",
     "output_type": "stream",
     "text": [
      "failed  https://raw.githubusercontent.com/googlefonts/noto-emoji/main/svg/emoji_u265f-ufe0f.svg\n"
     ]
    },
    {
     "name": "stderr",
     "output_type": "stream",
     "text": [
      " 89%|████████▉ | 570/638 [03:40<00:23,  2.87it/s]"
     ]
    },
    {
     "name": "stdout",
     "output_type": "stream",
     "text": [
      "failed  https://raw.githubusercontent.com/googlefonts/noto-emoji/main/svg/emoji_u1f5d1-ufe0f.svg\n"
     ]
    },
    {
     "name": "stderr",
     "output_type": "stream",
     "text": [
      " 91%|█████████ | 579/638 [03:43<00:21,  2.69it/s]"
     ]
    },
    {
     "name": "stdout",
     "output_type": "stream",
     "text": [
      "failed  https://raw.githubusercontent.com/googlefonts/noto-emoji/main/svg/emoji_u26a0-ufe0f.svg\n"
     ]
    },
    {
     "name": "stderr",
     "output_type": "stream",
     "text": [
      " 91%|█████████ | 582/638 [03:44<00:20,  2.69it/s]"
     ]
    },
    {
     "name": "stdout",
     "output_type": "stream",
     "text": [
      "failed  https://raw.githubusercontent.com/googlefonts/noto-emoji/main/svg/emoji_u2601-ufe0f.svg\n"
     ]
    },
    {
     "name": "stderr",
     "output_type": "stream",
     "text": [
      " 94%|█████████▍| 602/638 [03:52<00:15,  2.34it/s]"
     ]
    },
    {
     "name": "stdout",
     "output_type": "stream",
     "text": [
      "failed  https://raw.githubusercontent.com/googlefonts/noto-emoji/main/svg/emoji_u1f39e-ufe0f.svg\n"
     ]
    },
    {
     "name": "stderr",
     "output_type": "stream",
     "text": [
      " 95%|█████████▍| 604/638 [03:53<00:13,  2.48it/s]"
     ]
    },
    {
     "name": "stdout",
     "output_type": "stream",
     "text": [
      "failed  https://raw.githubusercontent.com/googlefonts/noto-emoji/main/svg/emoji_u1f32a-ufe0f.svg\n"
     ]
    },
    {
     "name": "stderr",
     "output_type": "stream",
     "text": [
      " 95%|█████████▌| 608/638 [03:54<00:11,  2.59it/s]"
     ]
    },
    {
     "name": "stdout",
     "output_type": "stream",
     "text": [
      "failed  https://raw.githubusercontent.com/googlefonts/noto-emoji/main/svg/emoji_u26cf-ufe0f.svg\n"
     ]
    },
    {
     "name": "stderr",
     "output_type": "stream",
     "text": [
      " 96%|█████████▋| 615/638 [03:57<00:08,  2.65it/s]"
     ]
    },
    {
     "name": "stdout",
     "output_type": "stream",
     "text": [
      "failed  https://raw.githubusercontent.com/googlefonts/noto-emoji/main/svg/emoji_u1f321-ufe0f.svg\n"
     ]
    },
    {
     "name": "stderr",
     "output_type": "stream",
     "text": [
      " 98%|█████████▊| 624/638 [04:00<00:05,  2.57it/s]"
     ]
    },
    {
     "name": "stdout",
     "output_type": "stream",
     "text": [
      "failed  https://raw.githubusercontent.com/googlefonts/noto-emoji/main/svg/emoji_u1f5ef-ufe0f.svg\n"
     ]
    },
    {
     "name": "stderr",
     "output_type": "stream",
     "text": [
      " 98%|█████████▊| 627/638 [04:01<00:04,  2.56it/s]"
     ]
    },
    {
     "name": "stdout",
     "output_type": "stream",
     "text": [
      "failed  https://raw.githubusercontent.com/googlefonts/noto-emoji/main/svg/emoji_u1f3da-ufe0f.svg\n"
     ]
    },
    {
     "name": "stderr",
     "output_type": "stream",
     "text": [
      " 99%|█████████▉| 632/638 [04:03<00:02,  2.53it/s]"
     ]
    },
    {
     "name": "stdout",
     "output_type": "stream",
     "text": [
      "failed  https://raw.githubusercontent.com/googlefonts/noto-emoji/main/svg/emoji_u1f58c-ufe0f.svg\n"
     ]
    },
    {
     "name": "stderr",
     "output_type": "stream",
     "text": [
      "100%|██████████| 638/638 [04:05<00:00,  2.60it/s]"
     ]
    },
    {
     "name": "stdout",
     "output_type": "stream",
     "text": [
      "failed  https://raw.githubusercontent.com/googlefonts/noto-emoji/main/svg/emoji_u2049-ufe0f.svg\n"
     ]
    },
    {
     "name": "stderr",
     "output_type": "stream",
     "text": [
      "\n"
     ]
    }
   ],
   "source": [
    "for name in tqdm.tqdm(todownload):\n",
    "    url=f'https://raw.githubusercontent.com/googlefonts/noto-emoji/main/svg/emoji_{name}.svg'\n",
    "    try:\n",
    "        urllib.request.urlretrieve(url, f\"../data/emojis/bare/{name}.svg\")\n",
    "    except:\n",
    "        print(\"failed \", url)"
   ]
  },
  {
   "cell_type": "code",
   "execution_count": 5,
   "id": "ffdca6be",
   "metadata": {},
   "outputs": [
    {
     "name": "stderr",
     "output_type": "stream",
     "text": [
      "100%|██████████| 40296/40296 [3:21:14<00:00,  3.34it/s]  \n"
     ]
    }
   ],
   "source": [
    "for name, url in tqdm.tqdm(onlynew.items()):\n",
    "    try:\n",
    "        urllib.request.urlretrieve(url, f\"../data/emojis/blended/{name}\")\n",
    "    except:\n",
    "        print(\"failed \", url)"
   ]
  },
  {
   "cell_type": "code",
   "execution_count": 13,
   "id": "5f57ea42",
   "metadata": {},
   "outputs": [
    {
     "data": {
      "text/plain": [
       "555"
      ]
     },
     "execution_count": 13,
     "metadata": {},
     "output_type": "execute_result"
    }
   ],
   "source": [
    "len(os.listdir('../data/emojis/bare/'))"
   ]
  },
  {
   "cell_type": "code",
   "execution_count": 5,
   "id": "b4a39c43-1535-49c6-bb3e-57a888c82c97",
   "metadata": {},
   "outputs": [
    {
     "name": "stderr",
     "output_type": "stream",
     "text": [
      "100%|████████████████████████████████████████████████████████████████████████████████| 567/567 [02:21<00:00,  4.00it/s]\n"
     ]
    }
   ],
   "source": [
    "import tqdm\n",
    "for link in tqdm.tqdm(links):\n",
    "    url=link[:-1]\n",
    "    try:\n",
    "        urllib.request.urlretrieve(url, f\"../data/original/{url.split('/')[-1].split('_')[-1]}\")\n",
    "    except:\n",
    "        print(\"failed \", url)"
   ]
  },
  {
   "cell_type": "code",
   "execution_count": 8,
   "id": "41fc9c91",
   "metadata": {},
   "outputs": [
    {
     "name": "stdout",
     "output_type": "stream",
     "text": [
      "Requirement already satisfied: cairosvg in d:\\anaconda3\\envs\\pytorch\\lib\\site-packages (2.7.1)\n",
      "Requirement already satisfied: cssselect2 in d:\\anaconda3\\envs\\pytorch\\lib\\site-packages (from cairosvg) (0.7.0)\n",
      "Requirement already satisfied: pillow in d:\\anaconda3\\envs\\pytorch\\lib\\site-packages (from cairosvg) (9.1.0)\n",
      "Requirement already satisfied: defusedxml in d:\\anaconda3\\envs\\pytorch\\lib\\site-packages (from cairosvg) (0.7.1)\n",
      "Requirement already satisfied: tinycss2 in d:\\anaconda3\\envs\\pytorch\\lib\\site-packages (from cairosvg) (1.1.1)\n",
      "Requirement already satisfied: cairocffi in d:\\anaconda3\\envs\\pytorch\\lib\\site-packages (from cairosvg) (1.3.0)\n",
      "Requirement already satisfied: cffi>=1.1.0 in d:\\anaconda3\\envs\\pytorch\\lib\\site-packages (from cairocffi->cairosvg) (1.15.1)\n",
      "Requirement already satisfied: webencodings in d:\\anaconda3\\envs\\pytorch\\lib\\site-packages (from cssselect2->cairosvg) (0.5.1)\n",
      "Requirement already satisfied: pycparser in d:\\anaconda3\\envs\\pytorch\\lib\\site-packages (from cffi>=1.1.0->cairocffi->cairosvg) (2.21)\n"
     ]
    }
   ],
   "source": [
    "#!pip install https://download.lfd.uci.edu/pythonlibs/archived/cairocffi-1.3.0-cp310-cp310-win_amd64.whl\n",
    "!pip install cairosvg\n",
    "#!pip install -U pycairo\n",
    "#https://download.lfd.uci.edu/pythonlibs/archived/pycairo-1.21.0-cp310-cp310-win_amd64.whl"
   ]
  },
  {
   "cell_type": "code",
   "execution_count": 1,
   "id": "bd5ff30e-aa76-4e56-8c27-99af27276ba0",
   "metadata": {},
   "outputs": [
    {
     "name": "stderr",
     "output_type": "stream",
     "text": [
      "100%|██████████| 555/555 [04:10<00:00,  2.21it/s]\n"
     ]
    }
   ],
   "source": [
    "#cairopath = 'C:\\GTK\\bin'\n",
    "import sys\n",
    "#if cairopath not in sys.path:\n",
    "#    sys.path.append(cairopath)\n",
    "import cairosvg\n",
    "import tqdm\n",
    "import os\n",
    "root=\"../data/emojis/bare/\"\n",
    "dest=\"../data/emojis/barepng/\"\n",
    "# Convert SVG to PNG\n",
    "for file in tqdm.tqdm(os.listdir(root)):\n",
    "    cairosvg.svg2png(url=root+file, write_to=dest+file.split('.')[0]+'.png',output_width=534,output_height=534)\n"
   ]
  }
 ],
 "metadata": {
  "kernelspec": {
   "display_name": "Python 3 (ipykernel)",
   "language": "python",
   "name": "python3"
  },
  "language_info": {
   "codemirror_mode": {
    "name": "ipython",
    "version": 3
   },
   "file_extension": ".py",
   "mimetype": "text/x-python",
   "name": "python",
   "nbconvert_exporter": "python",
   "pygments_lexer": "ipython3",
   "version": "3.10.5"
  }
 },
 "nbformat": 4,
 "nbformat_minor": 5
}
